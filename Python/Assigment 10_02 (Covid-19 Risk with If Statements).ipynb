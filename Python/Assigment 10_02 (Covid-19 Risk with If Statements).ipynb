{
 "cells": [
  {
   "cell_type": "code",
   "execution_count": 2,
   "metadata": {},
   "outputs": [
    {
     "name": "stdout",
     "output_type": "stream",
     "text": [
      "You are in risky group\n"
     ]
    }
   ],
   "source": [
    "# Task : Estimating the risk of death from coronavirus. \n",
    "age = input(\"If you are a smoker older than enter Yes. Enter No if you are not: \").strip().title()\n",
    "chronic = input(\"If you have have a severe chronic disease enter Yes. Enter No if you don't have: \").strip().title()\n",
    "immune = input(\"If your immune system is too weak enter Yes. Enter No if it is not: \").strip().title()\n",
    "if age == \"Yes\" or chronic == \"Yes\" or immune == \"Yes\" :\n",
    "    print(\"You are in risky group\")\n",
    "else :\n",
    "    print(\"You are not in risky group\")"
   ]
  }
 ],
 "metadata": {
  "interpreter": {
   "hash": "e7341b12b36ce6542c046900fc5d29420f82b15b3373b55da4dce9759b9ea08f"
  },
  "kernelspec": {
   "display_name": "Python 3.10.0 64-bit",
   "language": "python",
   "name": "python3"
  },
  "language_info": {
   "codemirror_mode": {
    "name": "ipython",
    "version": 3
   },
   "file_extension": ".py",
   "mimetype": "text/x-python",
   "name": "python",
   "nbconvert_exporter": "python",
   "pygments_lexer": "ipython3",
   "version": "3.10.0"
  },
  "orig_nbformat": 4
 },
 "nbformat": 4,
 "nbformat_minor": 2
}

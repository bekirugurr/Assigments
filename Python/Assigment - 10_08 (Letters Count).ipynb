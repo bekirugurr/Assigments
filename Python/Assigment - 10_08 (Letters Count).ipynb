{
 "cells": [
  {
   "cell_type": "code",
   "execution_count": 3,
   "metadata": {},
   "outputs": [
    {
     "data": {
      "text/plain": [
       "{'o': 2,\n",
       " ' ': 3,\n",
       " 's': 2,\n",
       " 'n': 1,\n",
       " 'h': 1,\n",
       " 'i': 1,\n",
       " 'p': 2,\n",
       " 'u': 2,\n",
       " 't': 1,\n",
       " 'r': 1,\n",
       " '!': 1}"
      ]
     },
     "execution_count": 3,
     "metadata": {},
     "output_type": "execute_result"
    }
   ],
   "source": [
    "\"\"\"\n",
    "The department you work for undertook a project construction that makes word / text analysis. You are asked to calculate the number of letters or any chars in the sentences entered under this project.\n",
    "    Write a Python program that;\n",
    "    1- takes a sentence from the user,\n",
    "    2- counts the number of each letter of the sentence,\n",
    "    3- collects the letters/chars as a key and the counted numbers as a value in a dictionary.\n",
    "\"\"\"\n",
    "def letter_count(sent):\n",
    "    result = dict()\n",
    "    for i in set(sent):\n",
    "        result.update({i : sent.count(i)})\n",
    "    return result\n",
    "\n",
    "letter_count(\"hippo runs to us!\")\n"
   ]
  }
 ],
 "metadata": {
  "interpreter": {
   "hash": "e7341b12b36ce6542c046900fc5d29420f82b15b3373b55da4dce9759b9ea08f"
  },
  "kernelspec": {
   "display_name": "Python 3.10.0 64-bit",
   "language": "python",
   "name": "python3"
  },
  "language_info": {
   "codemirror_mode": {
    "name": "ipython",
    "version": 3
   },
   "file_extension": ".py",
   "mimetype": "text/x-python",
   "name": "python",
   "nbconvert_exporter": "python",
   "pygments_lexer": "ipython3",
   "version": "3.10.0"
  },
  "orig_nbformat": 4
 },
 "nbformat": 4,
 "nbformat_minor": 2
}

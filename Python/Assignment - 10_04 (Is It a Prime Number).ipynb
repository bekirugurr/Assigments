{
 "cells": [
  {
   "cell_type": "code",
   "execution_count": 56,
   "metadata": {},
   "outputs": [
    {
     "name": "stdout",
     "output_type": "stream",
     "text": [
      "87 is not a prime number\n"
     ]
    }
   ],
   "source": [
    "# Versiyon1: def ile bir çok satır kullanarak \n",
    "def prime_check() :\n",
    "    num = int(input(\"Enter your number: \"))\n",
    "    sum = 0\n",
    "    for i in range(2, num) :\n",
    "        if num % i == 0:\n",
    "            sum += 1\n",
    "    if sum == 0 :\n",
    "        a = print(f\"{num} is a prime number\")  \n",
    "    else: \n",
    "        a = print(f\"{num} is not a prime number\")\n",
    "    return a\n",
    "prime_check()"
   ]
  },
  {
   "cell_type": "code",
   "execution_count": 60,
   "metadata": {},
   "outputs": [
    {
     "name": "stdout",
     "output_type": "stream",
     "text": [
      "1071 is not a prime number\n"
     ]
    }
   ],
   "source": [
    "# Versiyon2: def ile olabildiğince az satırla \n",
    "def prime_check2():\n",
    "    num = int(input(\"Enter your number: \"))\n",
    "    div_list = [i for i in range(2, num) if num % i == 0]\n",
    "    return print(f\"{num} is a prime number\") if len(div_list) == 0 else print(f\"{num} is not a prime number\")\n",
    "prime_check2()"
   ]
  }
 ],
 "metadata": {
  "interpreter": {
   "hash": "e7341b12b36ce6542c046900fc5d29420f82b15b3373b55da4dce9759b9ea08f"
  },
  "kernelspec": {
   "display_name": "Python 3.10.0 64-bit",
   "language": "python",
   "name": "python3"
  },
  "language_info": {
   "codemirror_mode": {
    "name": "ipython",
    "version": 3
   },
   "file_extension": ".py",
   "mimetype": "text/x-python",
   "name": "python",
   "nbconvert_exporter": "python",
   "pygments_lexer": "ipython3",
   "version": "3.10.0"
  },
  "orig_nbformat": 4
 },
 "nbformat": 4,
 "nbformat_minor": 2
}

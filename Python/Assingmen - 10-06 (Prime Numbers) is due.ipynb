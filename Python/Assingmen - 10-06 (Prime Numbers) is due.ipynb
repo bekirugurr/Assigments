{
 "cells": [
  {
   "cell_type": "code",
   "execution_count": 13,
   "metadata": {},
   "outputs": [
    {
     "name": "stdout",
     "output_type": "stream",
     "text": [
      "[2, 3, 5, 7, 11, 13, 17, 19, 23, 29, 31, 37, 41, 43, 47, 53, 59, 61, 67, 71, 73, 79, 83, 89, 97]\n"
     ]
    }
   ],
   "source": [
    "# Prime Numbers from 1 to 100\n",
    "\n",
    "prime =[]\n",
    "\n",
    "for i in range(2, 100):\n",
    "    sum = 0\n",
    "    for j in range(2, i):\n",
    "        if i % j == 0:\n",
    "            sum = sum + j\n",
    "    if sum == 0:\n",
    "         prime.append(i)\n",
    "\n",
    "print(prime)"
   ]
  }
 ],
 "metadata": {
  "interpreter": {
   "hash": "e7341b12b36ce6542c046900fc5d29420f82b15b3373b55da4dce9759b9ea08f"
  },
  "kernelspec": {
   "display_name": "Python 3.10.0 64-bit",
   "language": "python",
   "name": "python3"
  },
  "language_info": {
   "codemirror_mode": {
    "name": "ipython",
    "version": 3
   },
   "file_extension": ".py",
   "mimetype": "text/x-python",
   "name": "python",
   "nbconvert_exporter": "python",
   "pygments_lexer": "ipython3",
   "version": "3.10.0"
  },
  "orig_nbformat": 4
 },
 "nbformat": 4,
 "nbformat_minor": 2
}

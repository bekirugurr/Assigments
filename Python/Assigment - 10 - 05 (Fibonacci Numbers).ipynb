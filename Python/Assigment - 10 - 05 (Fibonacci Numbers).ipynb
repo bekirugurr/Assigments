{
 "cells": [
  {
   "cell_type": "code",
   "execution_count": 1,
   "metadata": {},
   "outputs": [
    {
     "name": "stdout",
     "output_type": "stream",
     "text": [
      "[1, 1, 2, 3, 5, 8, 13, 21, 34, 55]\n"
     ]
    }
   ],
   "source": [
    "# fibonacci numbers [1, 1, 2, 3, 5, 8, 13, 21, 34, 55]\n",
    "# Hocam boş listeye ekleyerek yapamadım. \n",
    "# Bunu bulduktan sonra internete baktığımda onlar da ilk iki değeri vermişler\n",
    "# Hocam github'ta bir sorun çıktı. o yüzden yükleyemedim ve bu kadar geç attım. Kusura bakmayın\n",
    "f_num = [0, 1]\n",
    "for i in range(56):\n",
    "  if f_num[-2] + f_num[-1] == i:\n",
    "    f_num.append(i)\n",
    "f_num.pop(0)\n",
    "print(f_num)"
   ]
  }
 ],
 "metadata": {
  "interpreter": {
   "hash": "e7341b12b36ce6542c046900fc5d29420f82b15b3373b55da4dce9759b9ea08f"
  },
  "kernelspec": {
   "display_name": "Python 3.10.0 64-bit",
   "language": "python",
   "name": "python3"
  },
  "language_info": {
   "codemirror_mode": {
    "name": "ipython",
    "version": 3
   },
   "file_extension": ".py",
   "mimetype": "text/x-python",
   "name": "python",
   "nbconvert_exporter": "python",
   "pygments_lexer": "ipython3",
   "version": "3.10.0"
  },
  "orig_nbformat": 4
 },
 "nbformat": 4,
 "nbformat_minor": 2
}
